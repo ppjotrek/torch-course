{
 "cells": [
  {
   "cell_type": "code",
   "execution_count": 17,
   "metadata": {},
   "outputs": [],
   "source": [
    "import torch\n",
    "import torchvision as tv\n",
    "import matplotlib.pyplot as plt\n",
    "from tqdm.auto import tqdm\n",
    "import time"
   ]
  },
  {
   "cell_type": "code",
   "execution_count": 2,
   "metadata": {},
   "outputs": [
    {
     "name": "stdout",
     "output_type": "stream",
     "text": [
      "Downloading http://fashion-mnist.s3-website.eu-central-1.amazonaws.com/train-images-idx3-ubyte.gz\n"
     ]
    },
    {
     "name": "stderr",
     "output_type": "stream",
     "text": [
      "1.2%"
     ]
    },
    {
     "name": "stdout",
     "output_type": "stream",
     "text": [
      "Downloading http://fashion-mnist.s3-website.eu-central-1.amazonaws.com/train-images-idx3-ubyte.gz to data/FashionMNIST/raw/train-images-idx3-ubyte.gz\n"
     ]
    },
    {
     "name": "stderr",
     "output_type": "stream",
     "text": [
      "100.0%\n"
     ]
    },
    {
     "name": "stdout",
     "output_type": "stream",
     "text": [
      "Extracting data/FashionMNIST/raw/train-images-idx3-ubyte.gz to data/FashionMNIST/raw\n"
     ]
    },
    {
     "name": "stderr",
     "output_type": "stream",
     "text": [
      "100.0%"
     ]
    },
    {
     "name": "stdout",
     "output_type": "stream",
     "text": [
      "\n",
      "Downloading http://fashion-mnist.s3-website.eu-central-1.amazonaws.com/train-labels-idx1-ubyte.gz\n",
      "Downloading http://fashion-mnist.s3-website.eu-central-1.amazonaws.com/train-labels-idx1-ubyte.gz to data/FashionMNIST/raw/train-labels-idx1-ubyte.gz\n",
      "Extracting data/FashionMNIST/raw/train-labels-idx1-ubyte.gz to data/FashionMNIST/raw\n",
      "\n",
      "Downloading http://fashion-mnist.s3-website.eu-central-1.amazonaws.com/t10k-images-idx3-ubyte.gz\n"
     ]
    },
    {
     "name": "stderr",
     "output_type": "stream",
     "text": [
      "\n",
      "5.9%"
     ]
    },
    {
     "name": "stdout",
     "output_type": "stream",
     "text": [
      "Downloading http://fashion-mnist.s3-website.eu-central-1.amazonaws.com/t10k-images-idx3-ubyte.gz to data/FashionMNIST/raw/t10k-images-idx3-ubyte.gz\n"
     ]
    },
    {
     "name": "stderr",
     "output_type": "stream",
     "text": [
      "100.0%\n"
     ]
    },
    {
     "name": "stdout",
     "output_type": "stream",
     "text": [
      "Extracting data/FashionMNIST/raw/t10k-images-idx3-ubyte.gz to data/FashionMNIST/raw\n",
      "\n",
      "Downloading http://fashion-mnist.s3-website.eu-central-1.amazonaws.com/t10k-labels-idx1-ubyte.gz\n",
      "Downloading http://fashion-mnist.s3-website.eu-central-1.amazonaws.com/t10k-labels-idx1-ubyte.gz to data/FashionMNIST/raw/t10k-labels-idx1-ubyte.gz\n"
     ]
    },
    {
     "name": "stderr",
     "output_type": "stream",
     "text": [
      "100.0%"
     ]
    },
    {
     "name": "stdout",
     "output_type": "stream",
     "text": [
      "Extracting data/FashionMNIST/raw/t10k-labels-idx1-ubyte.gz to data/FashionMNIST/raw\n",
      "\n"
     ]
    },
    {
     "name": "stderr",
     "output_type": "stream",
     "text": [
      "\n"
     ]
    }
   ],
   "source": [
    "training_dataset = tv.datasets.FashionMNIST(\n",
    "    root=\"data\",\n",
    "    train=True,\n",
    "    download=True, \n",
    "    transform=tv.transforms.ToTensor(),\n",
    "    target_transform=None\n",
    ")\n",
    "\n",
    "test_dataset = tv.datasets.FashionMNIST(\n",
    "    root=\"data\",\n",
    "    train=False,\n",
    "    download=True,\n",
    "    transform=tv.transforms.ToTensor(),\n",
    "    target_transform=None\n",
    ")\n"
   ]
  },
  {
   "cell_type": "code",
   "execution_count": 25,
   "metadata": {},
   "outputs": [
    {
     "data": {
      "text/plain": [
       "(torch.Size([32, 1, 28, 28]), torch.Size([32]))"
      ]
     },
     "execution_count": 25,
     "metadata": {},
     "output_type": "execute_result"
    }
   ],
   "source": [
    "BATCH_SIZE = 32\n",
    "\n",
    "train_dataloader = torch.utils.data.DataLoader(\n",
    "    training_dataset,\n",
    "    batch_size=BATCH_SIZE,\n",
    "    shuffle=True\n",
    ")\n",
    "\n",
    "test_dataloader = torch.utils.data.DataLoader(\n",
    "    test_dataset,\n",
    "    batch_size=BATCH_SIZE,\n",
    "    shuffle=False\n",
    ")\n",
    "\n",
    "train_features_batch, train_labels_batch = next(iter(train_dataloader))\n",
    "train_features_batch.shape, train_labels_batch.shape"
   ]
  },
  {
   "cell_type": "code",
   "execution_count": 6,
   "metadata": {},
   "outputs": [],
   "source": [
    "#Baseline model:\n",
    "\n",
    "class Model0(torch.nn.Module):\n",
    "    def __init__(self, input_shape: int, hidden_layers: int, output_shape: int):\n",
    "        super().__init__()\n",
    "        self.layers = torch.nn.Sequential(\n",
    "            torch.nn.Flatten(),\n",
    "            torch.nn.Linear(input_shape, hidden_layers),\n",
    "            torch.nn.Linear(hidden_layers, output_shape)\n",
    "        )\n",
    "\n",
    "    def forward(self, x):\n",
    "        return self.layers(x)"
   ]
  },
  {
   "cell_type": "code",
   "execution_count": 7,
   "metadata": {},
   "outputs": [
    {
     "data": {
      "text/plain": [
       "Model0(\n",
       "  (layers): Sequential(\n",
       "    (0): Flatten(start_dim=1, end_dim=-1)\n",
       "    (1): Linear(in_features=784, out_features=10, bias=True)\n",
       "    (2): Linear(in_features=10, out_features=10, bias=True)\n",
       "  )\n",
       ")"
      ]
     },
     "execution_count": 7,
     "metadata": {},
     "output_type": "execute_result"
    }
   ],
   "source": [
    "model0 = Model0(28*28, 10, 10)\n",
    "model0"
   ]
  },
  {
   "cell_type": "code",
   "execution_count": 24,
   "metadata": {},
   "outputs": [
    {
     "name": "stdout",
     "output_type": "stream",
     "text": [
      "torch.Size([1, 10])\n",
      "torch.Size([16, 10])\n"
     ]
    }
   ],
   "source": [
    "dummy_x = torch.randn(1, 28, 28)\n",
    "print(model0(dummy_x).shape)\n",
    "\n",
    "for X_test, y_test in test_dataloader:\n",
    "\n",
    "            test_pred = model0(X_test)\n",
    "print(test_pred.shape)"
   ]
  },
  {
   "cell_type": "code",
   "execution_count": 14,
   "metadata": {},
   "outputs": [],
   "source": [
    "def accuracy_fn(y_true, y_pred):\n",
    "    correct = torch.eq(y_true, y_pred).sum().item()\n",
    "    accuracy = correct / len(y_true) * 100\n",
    "    return accuracy\n",
    "\n",
    "loss_fn = torch.nn.CrossEntropyLoss()\n",
    "optimizer = torch.optim.SGD(params = model0.parameters(), lr=0.01)\n",
    "\n",
    "def print_train_time(start: float, end: float):\n",
    "    total_time = end - start\n",
    "    print(\"Training time: \", total_time, \"seconds\")\n",
    "    return total_time\n"
   ]
  },
  {
   "cell_type": "code",
   "execution_count": 29,
   "metadata": {},
   "outputs": [
    {
     "name": "stderr",
     "output_type": "stream",
     "text": [
      "  0%|          | 0/5 [00:00<?, ?it/s]"
     ]
    },
    {
     "name": "stdout",
     "output_type": "stream",
     "text": [
      "Epoch:  0 \n",
      "--------------------------\n",
      "Epoch  0  Batch:  100\n",
      "Epoch  0  Batch:  200\n",
      "Epoch  0  Batch:  300\n",
      "Epoch  0  Batch:  400\n",
      "Epoch  0  Batch:  500\n",
      "Epoch  0  Batch:  600\n",
      "Epoch  0  Batch:  700\n",
      "Epoch  0  Batch:  800\n",
      "Epoch  0  Batch:  900\n",
      "Epoch  0  Batch:  1000\n",
      "Epoch  0  Batch:  1100\n",
      "Epoch  0  Batch:  1200\n",
      "Epoch  0  Batch:  1300\n",
      "Epoch  0  Batch:  1400\n",
      "Epoch  0  Batch:  1500\n",
      "Epoch  0  Batch:  1600\n",
      "Epoch  0  Batch:  1700\n",
      "Epoch  0  Batch:  1800\n"
     ]
    },
    {
     "name": "stderr",
     "output_type": "stream",
     "text": [
      " 20%|██        | 1/5 [00:10<00:40, 10.05s/it]"
     ]
    },
    {
     "name": "stdout",
     "output_type": "stream",
     "text": [
      "Epoch:  0  | Train loss:  0.42680442333221436  | Test loss:  0.47794559597969055  | Test accuracy:  0.0\n",
      "Epoch:  1 \n",
      "--------------------------\n",
      "Epoch  1  Batch:  100\n",
      "Epoch  1  Batch:  200\n",
      "Epoch  1  Batch:  300\n",
      "Epoch  1  Batch:  400\n",
      "Epoch  1  Batch:  500\n",
      "Epoch  1  Batch:  600\n",
      "Epoch  1  Batch:  700\n",
      "Epoch  1  Batch:  800\n",
      "Epoch  1  Batch:  900\n",
      "Epoch  1  Batch:  1000\n",
      "Epoch  1  Batch:  1100\n",
      "Epoch  1  Batch:  1200\n",
      "Epoch  1  Batch:  1300\n",
      "Epoch  1  Batch:  1400\n",
      "Epoch  1  Batch:  1500\n",
      "Epoch  1  Batch:  1600\n",
      "Epoch  1  Batch:  1700\n",
      "Epoch  1  Batch:  1800\n"
     ]
    },
    {
     "name": "stderr",
     "output_type": "stream",
     "text": [
      " 40%|████      | 2/5 [00:19<00:29,  9.73s/it]"
     ]
    },
    {
     "name": "stdout",
     "output_type": "stream",
     "text": [
      "Epoch:  1  | Train loss:  0.4229726493358612  | Test loss:  0.45477530360221863  | Test accuracy:  0.0\n",
      "Epoch:  2 \n",
      "--------------------------\n",
      "Epoch  2  Batch:  100\n",
      "Epoch  2  Batch:  200\n",
      "Epoch  2  Batch:  300\n",
      "Epoch  2  Batch:  400\n",
      "Epoch  2  Batch:  500\n",
      "Epoch  2  Batch:  600\n",
      "Epoch  2  Batch:  700\n",
      "Epoch  2  Batch:  800\n",
      "Epoch  2  Batch:  900\n",
      "Epoch  2  Batch:  1000\n",
      "Epoch  2  Batch:  1100\n",
      "Epoch  2  Batch:  1200\n",
      "Epoch  2  Batch:  1300\n",
      "Epoch  2  Batch:  1400\n",
      "Epoch  2  Batch:  1500\n",
      "Epoch  2  Batch:  1600\n",
      "Epoch  2  Batch:  1700\n",
      "Epoch  2  Batch:  1800\n"
     ]
    },
    {
     "name": "stderr",
     "output_type": "stream",
     "text": [
      " 60%|██████    | 3/5 [00:28<00:19,  9.55s/it]"
     ]
    },
    {
     "name": "stdout",
     "output_type": "stream",
     "text": [
      "Epoch:  2  | Train loss:  0.4188637137413025  | Test loss:  0.4551538825035095  | Test accuracy:  0.0\n",
      "Epoch:  3 \n",
      "--------------------------\n",
      "Epoch  3  Batch:  100\n",
      "Epoch  3  Batch:  200\n",
      "Epoch  3  Batch:  300\n",
      "Epoch  3  Batch:  400\n",
      "Epoch  3  Batch:  500\n",
      "Epoch  3  Batch:  600\n",
      "Epoch  3  Batch:  700\n",
      "Epoch  3  Batch:  800\n",
      "Epoch  3  Batch:  900\n",
      "Epoch  3  Batch:  1000\n",
      "Epoch  3  Batch:  1100\n",
      "Epoch  3  Batch:  1200\n",
      "Epoch  3  Batch:  1300\n",
      "Epoch  3  Batch:  1400\n",
      "Epoch  3  Batch:  1500\n",
      "Epoch  3  Batch:  1600\n",
      "Epoch  3  Batch:  1700\n",
      "Epoch  3  Batch:  1800\n"
     ]
    },
    {
     "name": "stderr",
     "output_type": "stream",
     "text": [
      " 80%|████████  | 4/5 [00:38<00:09,  9.70s/it]"
     ]
    },
    {
     "name": "stdout",
     "output_type": "stream",
     "text": [
      "Epoch:  3  | Train loss:  0.41496342420578003  | Test loss:  0.4595507085323334  | Test accuracy:  0.0\n",
      "Epoch:  4 \n",
      "--------------------------\n",
      "Epoch  4  Batch:  100\n",
      "Epoch  4  Batch:  200\n",
      "Epoch  4  Batch:  300\n",
      "Epoch  4  Batch:  400\n",
      "Epoch  4  Batch:  500\n",
      "Epoch  4  Batch:  600\n",
      "Epoch  4  Batch:  700\n",
      "Epoch  4  Batch:  800\n",
      "Epoch  4  Batch:  900\n",
      "Epoch  4  Batch:  1000\n",
      "Epoch  4  Batch:  1100\n",
      "Epoch  4  Batch:  1200\n",
      "Epoch  4  Batch:  1300\n",
      "Epoch  4  Batch:  1400\n",
      "Epoch  4  Batch:  1500\n",
      "Epoch  4  Batch:  1600\n",
      "Epoch  4  Batch:  1700\n",
      "Epoch  4  Batch:  1800\n"
     ]
    },
    {
     "name": "stderr",
     "output_type": "stream",
     "text": [
      "100%|██████████| 5/5 [00:48<00:00,  9.78s/it]"
     ]
    },
    {
     "name": "stdout",
     "output_type": "stream",
     "text": [
      "Epoch:  4  | Train loss:  0.4125295877456665  | Test loss:  0.4488404095172882  | Test accuracy:  0.0\n",
      "Training time:  48.91603875160217 seconds\n"
     ]
    },
    {
     "name": "stderr",
     "output_type": "stream",
     "text": [
      "\n"
     ]
    }
   ],
   "source": [
    "#Pętla\n",
    "\n",
    "#for epochs:\n",
    "    #for batches:\n",
    "        #training...\n",
    "\n",
    "train_time_start = time.time()\n",
    "\n",
    "EPOCHS = 5\n",
    "\n",
    "for epoch in tqdm(range(EPOCHS)):\n",
    "    print(\"Epoch: \", epoch, \"\\n--------------------------\")\n",
    "    train_loss = 0\n",
    "    batch = 0\n",
    "    for batch, (X, y) in enumerate(train_dataloader):\n",
    "        batch += 1\n",
    "        model0.train()\n",
    "        y_pred = model0(X)\n",
    "        loss = loss_fn(y_pred, y)\n",
    "        train_loss += loss\n",
    "        optimizer.zero_grad()\n",
    "        loss.backward()\n",
    "        optimizer.step()\n",
    "        if batch % 100 == 0:\n",
    "            print(\"Epoch \", epoch, \" Batch: \", batch)\n",
    "    \n",
    "    train_loss /= len(train_dataloader)\n",
    "\n",
    "    #test\n",
    "\n",
    "    test_acc, test_loss = 0, 0\n",
    "\n",
    "    model0.eval()\n",
    "    with torch.inference_mode():\n",
    "        for X_test, y_test in test_dataloader:\n",
    "\n",
    "            y_pred = model0(X_test)\n",
    "            test_loss += loss_fn(y_pred, y_test)\n",
    "            #test_acc += accuracy_fn(y_test, y_pred)\n",
    "        test_loss /= len(test_dataloader)\n",
    "        test_acc /= len(test_dataloader)\n",
    "        \n",
    "        print(\"Epoch: \", epoch, \" | Train loss: \", train_loss.item(), \" | Test loss: \", test_loss.item(), \" | Test accuracy: \", test_acc)\n",
    "\n",
    "train_time_end = time.time()\n",
    "total_train_time = print_train_time(train_time_start, train_time_end)"
   ]
  },
  {
   "cell_type": "code",
   "execution_count": null,
   "metadata": {},
   "outputs": [],
   "source": [
    "def eval_model(model: torch.nn.Module, data_loader = torch.utils.data.DataLoader, loss_fn: torch.nn.Module, accuracy_fn):\n",
    "\n",
    "    \n"
   ]
  }
 ],
 "metadata": {
  "kernelspec": {
   "display_name": "torch-env",
   "language": "python",
   "name": "python3"
  },
  "language_info": {
   "codemirror_mode": {
    "name": "ipython",
    "version": 3
   },
   "file_extension": ".py",
   "mimetype": "text/x-python",
   "name": "python",
   "nbconvert_exporter": "python",
   "pygments_lexer": "ipython3",
   "version": "3.11.2"
  },
  "orig_nbformat": 4
 },
 "nbformat": 4,
 "nbformat_minor": 2
}
